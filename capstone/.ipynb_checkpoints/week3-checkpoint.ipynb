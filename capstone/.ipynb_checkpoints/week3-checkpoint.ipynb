{
 "cells": [
  {
   "cell_type": "code",
   "execution_count": 73,
   "metadata": {
    "collapsed": true
   },
   "outputs": [],
   "source": [
    "import pandas as pd\n",
    "from pyspark.mllib.clustering import KMeans, KMeansModel\n",
    "import numpy as np\n",
    "from numpy import array"
   ]
  },
  {
   "cell_type": "markdown",
   "metadata": {},
   "source": [
    "# Import Data"
   ]
  },
  {
   "cell_type": "code",
   "execution_count": 21,
   "metadata": {
    "collapsed": false
   },
   "outputs": [],
   "source": [
    "# add clicks\n",
    "adclicksDF = pd.read_csv('./big_data_capstone_datasets_and_scripts/flamingo-data/ad-clicks.csv')\n",
    "adclicksDF = adclicksDF.rename(columns=lambda x: x.strip()) #remove whitespaces from headers"
   ]
  },
  {
   "cell_type": "code",
   "execution_count": null,
   "metadata": {
    "collapsed": true
   },
   "outputs": [],
   "source": [
    "# buy clicks\n",
    "buyclicksDF = pd.read_csv('./big_data_capstone_datasets_and_scripts/flamingo-data/buy-clicks.csv')\n",
    "buyclicksDF = buyclicksDF.rename(columns=lambda x: x.strip()) #removes whitespaces from"
   ]
  },
  {
   "cell_type": "code",
   "execution_count": 38,
   "metadata": {
    "collapsed": true
   },
   "outputs": [],
   "source": [
    "# game clicks\n",
    "gameclicksDF = pd.read_csv('./big_data_capstone_datasets_and_scripts/flamingo-data/game-clicks.csv')\n",
    "gameclicksDF = gameclicksDF.rename(columns=lambda x: x.strip()) #removes whitespaces from"
   ]
  },
  {
   "cell_type": "code",
   "execution_count": 41,
   "metadata": {
    "collapsed": true
   },
   "outputs": [],
   "source": [
    "# user session\n",
    "usersessionDF = pd.read_csv('./big_data_capstone_datasets_and_scripts/flamingo-data/user-session.csv')\n",
    "usersessionDF = usersessionDF.rename(columns=lambda x: x.strip()) #removes whitespaces from"
   ]
  },
  {
   "cell_type": "markdown",
   "metadata": {},
   "source": [
    "# Display Data"
   ]
  },
  {
   "cell_type": "code",
   "execution_count": 25,
   "metadata": {
    "collapsed": false
   },
   "outputs": [
    {
     "data": {
      "text/html": [
       "<div>\n",
       "<table border=\"1\" class=\"dataframe\">\n",
       "  <thead>\n",
       "    <tr style=\"text-align: right;\">\n",
       "      <th></th>\n",
       "      <th>timestamp</th>\n",
       "      <th>txId</th>\n",
       "      <th>userSessionId</th>\n",
       "      <th>teamId</th>\n",
       "      <th>userId</th>\n",
       "      <th>adId</th>\n",
       "      <th>adCategory</th>\n",
       "      <th>adCount</th>\n",
       "    </tr>\n",
       "  </thead>\n",
       "  <tbody>\n",
       "    <tr>\n",
       "      <th>0</th>\n",
       "      <td>2016-05-26 15:13:22</td>\n",
       "      <td>5974</td>\n",
       "      <td>5809</td>\n",
       "      <td>27</td>\n",
       "      <td>611</td>\n",
       "      <td>2</td>\n",
       "      <td>electronics</td>\n",
       "      <td>1</td>\n",
       "    </tr>\n",
       "    <tr>\n",
       "      <th>1</th>\n",
       "      <td>2016-05-26 15:17:24</td>\n",
       "      <td>5976</td>\n",
       "      <td>5705</td>\n",
       "      <td>18</td>\n",
       "      <td>1874</td>\n",
       "      <td>21</td>\n",
       "      <td>movies</td>\n",
       "      <td>1</td>\n",
       "    </tr>\n",
       "    <tr>\n",
       "      <th>2</th>\n",
       "      <td>2016-05-26 15:22:52</td>\n",
       "      <td>5978</td>\n",
       "      <td>5791</td>\n",
       "      <td>53</td>\n",
       "      <td>2139</td>\n",
       "      <td>25</td>\n",
       "      <td>computers</td>\n",
       "      <td>1</td>\n",
       "    </tr>\n",
       "    <tr>\n",
       "      <th>3</th>\n",
       "      <td>2016-05-26 15:22:57</td>\n",
       "      <td>5973</td>\n",
       "      <td>5756</td>\n",
       "      <td>63</td>\n",
       "      <td>212</td>\n",
       "      <td>10</td>\n",
       "      <td>fashion</td>\n",
       "      <td>1</td>\n",
       "    </tr>\n",
       "    <tr>\n",
       "      <th>4</th>\n",
       "      <td>2016-05-26 15:22:58</td>\n",
       "      <td>5980</td>\n",
       "      <td>5920</td>\n",
       "      <td>9</td>\n",
       "      <td>1027</td>\n",
       "      <td>20</td>\n",
       "      <td>clothing</td>\n",
       "      <td>1</td>\n",
       "    </tr>\n",
       "  </tbody>\n",
       "</table>\n",
       "</div>"
      ],
      "text/plain": [
       "             timestamp  txId  userSessionId  teamId  userId  adId  \\\n",
       "0  2016-05-26 15:13:22  5974           5809      27     611     2   \n",
       "1  2016-05-26 15:17:24  5976           5705      18    1874    21   \n",
       "2  2016-05-26 15:22:52  5978           5791      53    2139    25   \n",
       "3  2016-05-26 15:22:57  5973           5756      63     212    10   \n",
       "4  2016-05-26 15:22:58  5980           5920       9    1027    20   \n",
       "\n",
       "    adCategory  adCount  \n",
       "0  electronics        1  \n",
       "1       movies        1  \n",
       "2    computers        1  \n",
       "3      fashion        1  \n",
       "4     clothing        1  "
      ]
     },
     "execution_count": 25,
     "metadata": {},
     "output_type": "execute_result"
    }
   ],
   "source": [
    "adclicksDF.head(n=5)"
   ]
  },
  {
   "cell_type": "code",
   "execution_count": 39,
   "metadata": {
    "collapsed": false
   },
   "outputs": [
    {
     "data": {
      "text/html": [
       "<div>\n",
       "<table border=\"1\" class=\"dataframe\">\n",
       "  <thead>\n",
       "    <tr style=\"text-align: right;\">\n",
       "      <th></th>\n",
       "      <th>timestamp</th>\n",
       "      <th>txId</th>\n",
       "      <th>userSessionId</th>\n",
       "      <th>team</th>\n",
       "      <th>userId</th>\n",
       "      <th>buyId</th>\n",
       "      <th>price</th>\n",
       "    </tr>\n",
       "  </thead>\n",
       "  <tbody>\n",
       "    <tr>\n",
       "      <th>0</th>\n",
       "      <td>2016-05-26 15:36:54</td>\n",
       "      <td>6004</td>\n",
       "      <td>5820</td>\n",
       "      <td>9</td>\n",
       "      <td>1300</td>\n",
       "      <td>2</td>\n",
       "      <td>3.0</td>\n",
       "    </tr>\n",
       "    <tr>\n",
       "      <th>1</th>\n",
       "      <td>2016-05-26 15:36:54</td>\n",
       "      <td>6005</td>\n",
       "      <td>5775</td>\n",
       "      <td>35</td>\n",
       "      <td>868</td>\n",
       "      <td>4</td>\n",
       "      <td>10.0</td>\n",
       "    </tr>\n",
       "    <tr>\n",
       "      <th>2</th>\n",
       "      <td>2016-05-26 15:36:54</td>\n",
       "      <td>6006</td>\n",
       "      <td>5679</td>\n",
       "      <td>97</td>\n",
       "      <td>819</td>\n",
       "      <td>5</td>\n",
       "      <td>20.0</td>\n",
       "    </tr>\n",
       "    <tr>\n",
       "      <th>3</th>\n",
       "      <td>2016-05-26 16:36:54</td>\n",
       "      <td>6067</td>\n",
       "      <td>5665</td>\n",
       "      <td>18</td>\n",
       "      <td>121</td>\n",
       "      <td>2</td>\n",
       "      <td>3.0</td>\n",
       "    </tr>\n",
       "    <tr>\n",
       "      <th>4</th>\n",
       "      <td>2016-05-26 17:06:54</td>\n",
       "      <td>6093</td>\n",
       "      <td>5709</td>\n",
       "      <td>11</td>\n",
       "      <td>2222</td>\n",
       "      <td>5</td>\n",
       "      <td>20.0</td>\n",
       "    </tr>\n",
       "  </tbody>\n",
       "</table>\n",
       "</div>"
      ],
      "text/plain": [
       "             timestamp  txId  userSessionId  team  userId  buyId  price\n",
       "0  2016-05-26 15:36:54  6004           5820     9    1300      2    3.0\n",
       "1  2016-05-26 15:36:54  6005           5775    35     868      4   10.0\n",
       "2  2016-05-26 15:36:54  6006           5679    97     819      5   20.0\n",
       "3  2016-05-26 16:36:54  6067           5665    18     121      2    3.0\n",
       "4  2016-05-26 17:06:54  6093           5709    11    2222      5   20.0"
      ]
     },
     "execution_count": 39,
     "metadata": {},
     "output_type": "execute_result"
    }
   ],
   "source": [
    "buyclicksDF.head(n=5)"
   ]
  },
  {
   "cell_type": "code",
   "execution_count": 43,
   "metadata": {
    "collapsed": false
   },
   "outputs": [
    {
     "data": {
      "text/html": [
       "<div>\n",
       "<table border=\"1\" class=\"dataframe\">\n",
       "  <thead>\n",
       "    <tr style=\"text-align: right;\">\n",
       "      <th></th>\n",
       "      <th>timestamp</th>\n",
       "      <th>clickId</th>\n",
       "      <th>userId</th>\n",
       "      <th>userSessionId</th>\n",
       "      <th>isHit</th>\n",
       "      <th>teamId</th>\n",
       "      <th>teamLevel</th>\n",
       "    </tr>\n",
       "  </thead>\n",
       "  <tbody>\n",
       "    <tr>\n",
       "      <th>0</th>\n",
       "      <td>2016-05-26 15:06:55</td>\n",
       "      <td>105</td>\n",
       "      <td>1038</td>\n",
       "      <td>5916</td>\n",
       "      <td>0</td>\n",
       "      <td>25</td>\n",
       "      <td>1</td>\n",
       "    </tr>\n",
       "    <tr>\n",
       "      <th>1</th>\n",
       "      <td>2016-05-26 15:07:09</td>\n",
       "      <td>154</td>\n",
       "      <td>1099</td>\n",
       "      <td>5898</td>\n",
       "      <td>0</td>\n",
       "      <td>44</td>\n",
       "      <td>1</td>\n",
       "    </tr>\n",
       "    <tr>\n",
       "      <th>2</th>\n",
       "      <td>2016-05-26 15:07:14</td>\n",
       "      <td>229</td>\n",
       "      <td>899</td>\n",
       "      <td>5757</td>\n",
       "      <td>0</td>\n",
       "      <td>71</td>\n",
       "      <td>1</td>\n",
       "    </tr>\n",
       "    <tr>\n",
       "      <th>3</th>\n",
       "      <td>2016-05-26 15:07:14</td>\n",
       "      <td>322</td>\n",
       "      <td>2197</td>\n",
       "      <td>5854</td>\n",
       "      <td>0</td>\n",
       "      <td>99</td>\n",
       "      <td>1</td>\n",
       "    </tr>\n",
       "    <tr>\n",
       "      <th>4</th>\n",
       "      <td>2016-05-26 15:07:20</td>\n",
       "      <td>22</td>\n",
       "      <td>1362</td>\n",
       "      <td>5739</td>\n",
       "      <td>0</td>\n",
       "      <td>13</td>\n",
       "      <td>1</td>\n",
       "    </tr>\n",
       "  </tbody>\n",
       "</table>\n",
       "</div>"
      ],
      "text/plain": [
       "             timestamp  clickId  userId  userSessionId  isHit  teamId  \\\n",
       "0  2016-05-26 15:06:55      105    1038           5916      0      25   \n",
       "1  2016-05-26 15:07:09      154    1099           5898      0      44   \n",
       "2  2016-05-26 15:07:14      229     899           5757      0      71   \n",
       "3  2016-05-26 15:07:14      322    2197           5854      0      99   \n",
       "4  2016-05-26 15:07:20       22    1362           5739      0      13   \n",
       "\n",
       "   teamLevel  \n",
       "0          1  \n",
       "1          1  \n",
       "2          1  \n",
       "3          1  \n",
       "4          1  "
      ]
     },
     "execution_count": 43,
     "metadata": {},
     "output_type": "execute_result"
    }
   ],
   "source": [
    "gameclicksDF.head()"
   ]
  },
  {
   "cell_type": "code",
   "execution_count": 42,
   "metadata": {
    "collapsed": false
   },
   "outputs": [
    {
     "data": {
      "text/html": [
       "<div>\n",
       "<table border=\"1\" class=\"dataframe\">\n",
       "  <thead>\n",
       "    <tr style=\"text-align: right;\">\n",
       "      <th></th>\n",
       "      <th>timestamp</th>\n",
       "      <th>userSessionId</th>\n",
       "      <th>userId</th>\n",
       "      <th>teamId</th>\n",
       "      <th>assignmentId</th>\n",
       "      <th>sessionType</th>\n",
       "      <th>teamLevel</th>\n",
       "      <th>platformType</th>\n",
       "    </tr>\n",
       "  </thead>\n",
       "  <tbody>\n",
       "    <tr>\n",
       "      <th>0</th>\n",
       "      <td>2016-05-26 14:47:30</td>\n",
       "      <td>5675</td>\n",
       "      <td>170</td>\n",
       "      <td>90</td>\n",
       "      <td>5423</td>\n",
       "      <td>start</td>\n",
       "      <td>1</td>\n",
       "      <td>iphone</td>\n",
       "    </tr>\n",
       "    <tr>\n",
       "      <th>1</th>\n",
       "      <td>2016-05-27 00:06:54</td>\n",
       "      <td>5675</td>\n",
       "      <td>170</td>\n",
       "      <td>90</td>\n",
       "      <td>5423</td>\n",
       "      <td>end</td>\n",
       "      <td>1</td>\n",
       "      <td>iphone</td>\n",
       "    </tr>\n",
       "    <tr>\n",
       "      <th>2</th>\n",
       "      <td>2016-05-26 14:43:09</td>\n",
       "      <td>5795</td>\n",
       "      <td>835</td>\n",
       "      <td>39</td>\n",
       "      <td>5300</td>\n",
       "      <td>start</td>\n",
       "      <td>1</td>\n",
       "      <td>android</td>\n",
       "    </tr>\n",
       "    <tr>\n",
       "      <th>3</th>\n",
       "      <td>2016-05-27 08:06:54</td>\n",
       "      <td>5795</td>\n",
       "      <td>835</td>\n",
       "      <td>39</td>\n",
       "      <td>5300</td>\n",
       "      <td>end</td>\n",
       "      <td>1</td>\n",
       "      <td>android</td>\n",
       "    </tr>\n",
       "    <tr>\n",
       "      <th>4</th>\n",
       "      <td>2016-05-26 14:47:20</td>\n",
       "      <td>5833</td>\n",
       "      <td>624</td>\n",
       "      <td>2</td>\n",
       "      <td>5529</td>\n",
       "      <td>start</td>\n",
       "      <td>1</td>\n",
       "      <td>iphone</td>\n",
       "    </tr>\n",
       "  </tbody>\n",
       "</table>\n",
       "</div>"
      ],
      "text/plain": [
       "             timestamp  userSessionId  userId  teamId  assignmentId  \\\n",
       "0  2016-05-26 14:47:30           5675     170      90          5423   \n",
       "1  2016-05-27 00:06:54           5675     170      90          5423   \n",
       "2  2016-05-26 14:43:09           5795     835      39          5300   \n",
       "3  2016-05-27 08:06:54           5795     835      39          5300   \n",
       "4  2016-05-26 14:47:20           5833     624       2          5529   \n",
       "\n",
       "  sessionType  teamLevel platformType  \n",
       "0       start          1       iphone  \n",
       "1         end          1       iphone  \n",
       "2       start          1      android  \n",
       "3         end          1      android  \n",
       "4       start          1       iphone  "
      ]
     },
     "execution_count": 42,
     "metadata": {},
     "output_type": "execute_result"
    }
   ],
   "source": [
    "usersessionDF.head(n=5)"
   ]
  },
  {
   "cell_type": "markdown",
   "metadata": {},
   "source": [
    "# Feature Selection"
   ]
  },
  {
   "cell_type": "code",
   "execution_count": 28,
   "metadata": {
    "collapsed": false
   },
   "outputs": [
    {
     "data": {
      "text/html": [
       "<div>\n",
       "<table border=\"1\" class=\"dataframe\">\n",
       "  <thead>\n",
       "    <tr style=\"text-align: right;\">\n",
       "      <th></th>\n",
       "      <th>userId</th>\n",
       "      <th>price</th>\n",
       "    </tr>\n",
       "  </thead>\n",
       "  <tbody>\n",
       "    <tr>\n",
       "      <th>0</th>\n",
       "      <td>1300</td>\n",
       "      <td>3.0</td>\n",
       "    </tr>\n",
       "    <tr>\n",
       "      <th>1</th>\n",
       "      <td>868</td>\n",
       "      <td>10.0</td>\n",
       "    </tr>\n",
       "    <tr>\n",
       "      <th>2</th>\n",
       "      <td>819</td>\n",
       "      <td>20.0</td>\n",
       "    </tr>\n",
       "    <tr>\n",
       "      <th>3</th>\n",
       "      <td>121</td>\n",
       "      <td>3.0</td>\n",
       "    </tr>\n",
       "    <tr>\n",
       "      <th>4</th>\n",
       "      <td>2222</td>\n",
       "      <td>20.0</td>\n",
       "    </tr>\n",
       "  </tbody>\n",
       "</table>\n",
       "</div>"
      ],
      "text/plain": [
       "   userId  price\n",
       "0    1300    3.0\n",
       "1     868   10.0\n",
       "2     819   20.0\n",
       "3     121    3.0\n",
       "4    2222   20.0"
      ]
     },
     "execution_count": 28,
     "metadata": {},
     "output_type": "execute_result"
    }
   ],
   "source": [
    "userPurchases = buyclicksDF[['userId','price']] #select only userid and price\n",
    "userPurchases.head(n=5)"
   ]
  },
  {
   "cell_type": "code",
   "execution_count": 44,
   "metadata": {
    "collapsed": false
   },
   "outputs": [
    {
     "data": {
      "text/html": [
       "<div>\n",
       "<table border=\"1\" class=\"dataframe\">\n",
       "  <thead>\n",
       "    <tr style=\"text-align: right;\">\n",
       "      <th></th>\n",
       "      <th>userId</th>\n",
       "      <th>adCount</th>\n",
       "    </tr>\n",
       "  </thead>\n",
       "  <tbody>\n",
       "    <tr>\n",
       "      <th>0</th>\n",
       "      <td>611</td>\n",
       "      <td>1</td>\n",
       "    </tr>\n",
       "    <tr>\n",
       "      <th>1</th>\n",
       "      <td>1874</td>\n",
       "      <td>1</td>\n",
       "    </tr>\n",
       "    <tr>\n",
       "      <th>2</th>\n",
       "      <td>2139</td>\n",
       "      <td>1</td>\n",
       "    </tr>\n",
       "    <tr>\n",
       "      <th>3</th>\n",
       "      <td>212</td>\n",
       "      <td>1</td>\n",
       "    </tr>\n",
       "    <tr>\n",
       "      <th>4</th>\n",
       "      <td>1027</td>\n",
       "      <td>1</td>\n",
       "    </tr>\n",
       "  </tbody>\n",
       "</table>\n",
       "</div>"
      ],
      "text/plain": [
       "   userId  adCount\n",
       "0     611        1\n",
       "1    1874        1\n",
       "2    2139        1\n",
       "3     212        1\n",
       "4    1027        1"
      ]
     },
     "execution_count": 44,
     "metadata": {},
     "output_type": "execute_result"
    }
   ],
   "source": [
    "useradClicks = adclicksDF[['userId', 'adCount']]\n",
    "useradClicks.head(n=5) #as we saw before, this line displays first five lines"
   ]
  },
  {
   "cell_type": "code",
   "execution_count": 45,
   "metadata": {
    "collapsed": false
   },
   "outputs": [
    {
     "data": {
      "text/html": [
       "<div>\n",
       "<table border=\"1\" class=\"dataframe\">\n",
       "  <thead>\n",
       "    <tr style=\"text-align: right;\">\n",
       "      <th></th>\n",
       "      <th>userId</th>\n",
       "      <th>isHit</th>\n",
       "    </tr>\n",
       "  </thead>\n",
       "  <tbody>\n",
       "    <tr>\n",
       "      <th>0</th>\n",
       "      <td>1038</td>\n",
       "      <td>0</td>\n",
       "    </tr>\n",
       "    <tr>\n",
       "      <th>1</th>\n",
       "      <td>1099</td>\n",
       "      <td>0</td>\n",
       "    </tr>\n",
       "    <tr>\n",
       "      <th>2</th>\n",
       "      <td>899</td>\n",
       "      <td>0</td>\n",
       "    </tr>\n",
       "    <tr>\n",
       "      <th>3</th>\n",
       "      <td>2197</td>\n",
       "      <td>0</td>\n",
       "    </tr>\n",
       "    <tr>\n",
       "      <th>4</th>\n",
       "      <td>1362</td>\n",
       "      <td>0</td>\n",
       "    </tr>\n",
       "  </tbody>\n",
       "</table>\n",
       "</div>"
      ],
      "text/plain": [
       "   userId  isHit\n",
       "0    1038      0\n",
       "1    1099      0\n",
       "2     899      0\n",
       "3    2197      0\n",
       "4    1362      0"
      ]
     },
     "execution_count": 45,
     "metadata": {},
     "output_type": "execute_result"
    }
   ],
   "source": [
    "gameClicks = gameclicksDF[['userId', 'isHit']]\n",
    "gameClicks.head()"
   ]
  },
  {
   "cell_type": "code",
   "execution_count": 92,
   "metadata": {
    "collapsed": false,
    "scrolled": true
   },
   "outputs": [
    {
     "data": {
      "text/html": [
       "<div>\n",
       "<table border=\"1\" class=\"dataframe\">\n",
       "  <thead>\n",
       "    <tr style=\"text-align: right;\">\n",
       "      <th></th>\n",
       "      <th>userId</th>\n",
       "      <th>userSessionId</th>\n",
       "      <th>timestamp</th>\n",
       "      <th>sessionType</th>\n",
       "    </tr>\n",
       "  </thead>\n",
       "  <tbody>\n",
       "    <tr>\n",
       "      <th>0</th>\n",
       "      <td>170</td>\n",
       "      <td>5675</td>\n",
       "      <td>2016-05-26 14:47:30</td>\n",
       "      <td>start</td>\n",
       "    </tr>\n",
       "    <tr>\n",
       "      <th>1</th>\n",
       "      <td>170</td>\n",
       "      <td>5675</td>\n",
       "      <td>2016-05-27 00:06:54</td>\n",
       "      <td>end</td>\n",
       "    </tr>\n",
       "    <tr>\n",
       "      <th>2</th>\n",
       "      <td>835</td>\n",
       "      <td>5795</td>\n",
       "      <td>2016-05-26 14:43:09</td>\n",
       "      <td>start</td>\n",
       "    </tr>\n",
       "    <tr>\n",
       "      <th>3</th>\n",
       "      <td>835</td>\n",
       "      <td>5795</td>\n",
       "      <td>2016-05-27 08:06:54</td>\n",
       "      <td>end</td>\n",
       "    </tr>\n",
       "    <tr>\n",
       "      <th>4</th>\n",
       "      <td>624</td>\n",
       "      <td>5833</td>\n",
       "      <td>2016-05-26 14:47:20</td>\n",
       "      <td>start</td>\n",
       "    </tr>\n",
       "  </tbody>\n",
       "</table>\n",
       "</div>"
      ],
      "text/plain": [
       "   userId  userSessionId            timestamp sessionType\n",
       "0     170           5675  2016-05-26 14:47:30       start\n",
       "1     170           5675  2016-05-27 00:06:54         end\n",
       "2     835           5795  2016-05-26 14:43:09       start\n",
       "3     835           5795  2016-05-27 08:06:54         end\n",
       "4     624           5833  2016-05-26 14:47:20       start"
      ]
     },
     "execution_count": 92,
     "metadata": {},
     "output_type": "execute_result"
    }
   ],
   "source": [
    "sessionHours = usersessionDF[['userId', 'userSessionId', 'timestamp', 'sessionType']]\n",
    "sessionHours.head()"
   ]
  },
  {
   "cell_type": "code",
   "execution_count": 93,
   "metadata": {
    "collapsed": true
   },
   "outputs": [],
   "source": [
    "sessionHours['timestamp'] = pd.to_datetime(sessionHours['timestamp'])\n",
    "startSession = sessionHours[sessionHours['sessionType'] == 'start']\n",
    "endSession = sessionHours[sessionHours['sessionType'] == 'end']\n",
    "sessionHours = startSession.merge(endSession, on='userSessionId')\n",
    "sessionHours['sessionLength'] = sessionHours['timestamp_y'] - sessionHours['timestamp_x']\n",
    "sessionHours['sessionLength'] = sessionHours['sessionLength'] / np.timedelta64(1, 'h')"
   ]
  },
  {
   "cell_type": "code",
   "execution_count": 94,
   "metadata": {
    "collapsed": true
   },
   "outputs": [],
   "source": [
    "sessionHours = sessionHours[['userId_x', 'sessionLength']]"
   ]
  },
  {
   "cell_type": "code",
   "execution_count": 95,
   "metadata": {
    "collapsed": true
   },
   "outputs": [],
   "source": [
    "sessionHours.columns = ['userId', 'sessionLength']"
   ]
  },
  {
   "cell_type": "code",
   "execution_count": 96,
   "metadata": {
    "collapsed": false
   },
   "outputs": [
    {
     "data": {
      "text/html": [
       "<div>\n",
       "<table border=\"1\" class=\"dataframe\">\n",
       "  <thead>\n",
       "    <tr style=\"text-align: right;\">\n",
       "      <th></th>\n",
       "      <th>userId</th>\n",
       "      <th>sessionLength</th>\n",
       "    </tr>\n",
       "  </thead>\n",
       "  <tbody>\n",
       "    <tr>\n",
       "      <th>0</th>\n",
       "      <td>170</td>\n",
       "      <td>9.323333</td>\n",
       "    </tr>\n",
       "    <tr>\n",
       "      <th>1</th>\n",
       "      <td>835</td>\n",
       "      <td>17.395833</td>\n",
       "    </tr>\n",
       "    <tr>\n",
       "      <th>2</th>\n",
       "      <td>624</td>\n",
       "      <td>32.326111</td>\n",
       "    </tr>\n",
       "    <tr>\n",
       "      <th>3</th>\n",
       "      <td>514</td>\n",
       "      <td>32.489167</td>\n",
       "    </tr>\n",
       "    <tr>\n",
       "      <th>4</th>\n",
       "      <td>2103</td>\n",
       "      <td>32.499722</td>\n",
       "    </tr>\n",
       "  </tbody>\n",
       "</table>\n",
       "</div>"
      ],
      "text/plain": [
       "   userId  sessionLength\n",
       "0     170       9.323333\n",
       "1     835      17.395833\n",
       "2     624      32.326111\n",
       "3     514      32.489167\n",
       "4    2103      32.499722"
      ]
     },
     "execution_count": 96,
     "metadata": {},
     "output_type": "execute_result"
    }
   ],
   "source": [
    "sessionHours.head()"
   ]
  },
  {
   "cell_type": "markdown",
   "metadata": {},
   "source": [
    "# Aggregation"
   ]
  },
  {
   "cell_type": "code",
   "execution_count": 33,
   "metadata": {
    "collapsed": false
   },
   "outputs": [],
   "source": [
    "# aggregate ads count by users and addtype\n",
    "adsPerUser = useradClicks.groupby(['userId']).sum()\n",
    "adsPerUser = adsPerUser.reset_index()\n",
    "adsPerUser.columns = ['userId', 'totalAdClicks'] #rename the columns"
   ]
  },
  {
   "cell_type": "code",
   "execution_count": 34,
   "metadata": {
    "collapsed": false
   },
   "outputs": [
    {
     "data": {
      "text/html": [
       "<div>\n",
       "<table border=\"1\" class=\"dataframe\">\n",
       "  <thead>\n",
       "    <tr style=\"text-align: right;\">\n",
       "      <th></th>\n",
       "      <th>userId</th>\n",
       "      <th>totalAdClicks</th>\n",
       "    </tr>\n",
       "  </thead>\n",
       "  <tbody>\n",
       "    <tr>\n",
       "      <th>0</th>\n",
       "      <td>1</td>\n",
       "      <td>44</td>\n",
       "    </tr>\n",
       "    <tr>\n",
       "      <th>1</th>\n",
       "      <td>8</td>\n",
       "      <td>10</td>\n",
       "    </tr>\n",
       "    <tr>\n",
       "      <th>2</th>\n",
       "      <td>9</td>\n",
       "      <td>37</td>\n",
       "    </tr>\n",
       "    <tr>\n",
       "      <th>3</th>\n",
       "      <td>10</td>\n",
       "      <td>19</td>\n",
       "    </tr>\n",
       "    <tr>\n",
       "      <th>4</th>\n",
       "      <td>12</td>\n",
       "      <td>46</td>\n",
       "    </tr>\n",
       "  </tbody>\n",
       "</table>\n",
       "</div>"
      ],
      "text/plain": [
       "   userId  totalAdClicks\n",
       "0       1             44\n",
       "1       8             10\n",
       "2       9             37\n",
       "3      10             19\n",
       "4      12             46"
      ]
     },
     "execution_count": 34,
     "metadata": {},
     "output_type": "execute_result"
    }
   ],
   "source": [
    "adsPerUser.head(n=5)"
   ]
  },
  {
   "cell_type": "code",
   "execution_count": 36,
   "metadata": {
    "collapsed": true
   },
   "outputs": [],
   "source": [
    "# aggregate revenue by users\n",
    "revenuePerUser = userPurchases.groupby('userId').sum()\n",
    "revenuePerUser = revenuePerUser.reset_index()\n",
    "revenuePerUser.columns = ['userId', 'revenue'] #rename the columns"
   ]
  },
  {
   "cell_type": "code",
   "execution_count": 37,
   "metadata": {
    "collapsed": false
   },
   "outputs": [
    {
     "data": {
      "text/html": [
       "<div>\n",
       "<table border=\"1\" class=\"dataframe\">\n",
       "  <thead>\n",
       "    <tr style=\"text-align: right;\">\n",
       "      <th></th>\n",
       "      <th>userId</th>\n",
       "      <th>revenue</th>\n",
       "    </tr>\n",
       "  </thead>\n",
       "  <tbody>\n",
       "    <tr>\n",
       "      <th>0</th>\n",
       "      <td>1</td>\n",
       "      <td>21.0</td>\n",
       "    </tr>\n",
       "    <tr>\n",
       "      <th>1</th>\n",
       "      <td>8</td>\n",
       "      <td>53.0</td>\n",
       "    </tr>\n",
       "    <tr>\n",
       "      <th>2</th>\n",
       "      <td>9</td>\n",
       "      <td>80.0</td>\n",
       "    </tr>\n",
       "    <tr>\n",
       "      <th>3</th>\n",
       "      <td>10</td>\n",
       "      <td>11.0</td>\n",
       "    </tr>\n",
       "    <tr>\n",
       "      <th>4</th>\n",
       "      <td>12</td>\n",
       "      <td>215.0</td>\n",
       "    </tr>\n",
       "  </tbody>\n",
       "</table>\n",
       "</div>"
      ],
      "text/plain": [
       "   userId  revenue\n",
       "0       1     21.0\n",
       "1       8     53.0\n",
       "2       9     80.0\n",
       "3      10     11.0\n",
       "4      12    215.0"
      ]
     },
     "execution_count": 37,
     "metadata": {},
     "output_type": "execute_result"
    }
   ],
   "source": [
    "revenuePerUser.head(n=5)"
   ]
  },
  {
   "cell_type": "code",
   "execution_count": 46,
   "metadata": {
    "collapsed": true
   },
   "outputs": [],
   "source": [
    "# aggregate game clicks by users\n",
    "hitsPerUser = gameClicks.groupby('userId').sum()\n",
    "hitsPerUser = hitsPerUser.reset_index()\n",
    "hitsPerUser.columns = ['userId', 'hits']"
   ]
  },
  {
   "cell_type": "code",
   "execution_count": 47,
   "metadata": {
    "collapsed": false
   },
   "outputs": [
    {
     "data": {
      "text/html": [
       "<div>\n",
       "<table border=\"1\" class=\"dataframe\">\n",
       "  <thead>\n",
       "    <tr style=\"text-align: right;\">\n",
       "      <th></th>\n",
       "      <th>userId</th>\n",
       "      <th>hits</th>\n",
       "    </tr>\n",
       "  </thead>\n",
       "  <tbody>\n",
       "    <tr>\n",
       "      <th>0</th>\n",
       "      <td>0</td>\n",
       "      <td>143</td>\n",
       "    </tr>\n",
       "    <tr>\n",
       "      <th>1</th>\n",
       "      <td>1</td>\n",
       "      <td>96</td>\n",
       "    </tr>\n",
       "    <tr>\n",
       "      <th>2</th>\n",
       "      <td>2</td>\n",
       "      <td>22</td>\n",
       "    </tr>\n",
       "    <tr>\n",
       "      <th>3</th>\n",
       "      <td>6</td>\n",
       "      <td>16</td>\n",
       "    </tr>\n",
       "    <tr>\n",
       "      <th>4</th>\n",
       "      <td>8</td>\n",
       "      <td>38</td>\n",
       "    </tr>\n",
       "  </tbody>\n",
       "</table>\n",
       "</div>"
      ],
      "text/plain": [
       "   userId  hits\n",
       "0       0   143\n",
       "1       1    96\n",
       "2       2    22\n",
       "3       6    16\n",
       "4       8    38"
      ]
     },
     "execution_count": 47,
     "metadata": {},
     "output_type": "execute_result"
    }
   ],
   "source": [
    "hitsPerUser.head()"
   ]
  },
  {
   "cell_type": "code",
   "execution_count": 98,
   "metadata": {
    "collapsed": false
   },
   "outputs": [],
   "source": [
    "# aggegrate total session hours by users\n",
    "sessionHours = sessionHours.groupby('userId').sum()\n",
    "sessionHours = sessionHours.reset_index()\n",
    "sessionHours.columns = ['userId', 'sessionLength']"
   ]
  },
  {
   "cell_type": "code",
   "execution_count": 99,
   "metadata": {
    "collapsed": false
   },
   "outputs": [
    {
     "data": {
      "text/html": [
       "<div>\n",
       "<table border=\"1\" class=\"dataframe\">\n",
       "  <thead>\n",
       "    <tr style=\"text-align: right;\">\n",
       "      <th></th>\n",
       "      <th>userId</th>\n",
       "      <th>sessionLength</th>\n",
       "    </tr>\n",
       "  </thead>\n",
       "  <tbody>\n",
       "    <tr>\n",
       "      <th>0</th>\n",
       "      <td>0</td>\n",
       "      <td>175.500000</td>\n",
       "    </tr>\n",
       "    <tr>\n",
       "      <th>1</th>\n",
       "      <td>1</td>\n",
       "      <td>437.615278</td>\n",
       "    </tr>\n",
       "    <tr>\n",
       "      <th>2</th>\n",
       "      <td>2</td>\n",
       "      <td>319.500000</td>\n",
       "    </tr>\n",
       "    <tr>\n",
       "      <th>3</th>\n",
       "      <td>6</td>\n",
       "      <td>74.500000</td>\n",
       "    </tr>\n",
       "    <tr>\n",
       "      <th>4</th>\n",
       "      <td>8</td>\n",
       "      <td>80.000000</td>\n",
       "    </tr>\n",
       "  </tbody>\n",
       "</table>\n",
       "</div>"
      ],
      "text/plain": [
       "   userId  sessionLength\n",
       "0       0     175.500000\n",
       "1       1     437.615278\n",
       "2       2     319.500000\n",
       "3       6      74.500000\n",
       "4       8      80.000000"
      ]
     },
     "execution_count": 99,
     "metadata": {},
     "output_type": "execute_result"
    }
   ],
   "source": [
    "sessionHours.head()"
   ]
  },
  {
   "cell_type": "code",
   "execution_count": 100,
   "metadata": {
    "collapsed": false
   },
   "outputs": [],
   "source": [
    "sessionHits = sessionHours.merge(hitsPerUser, on='userId') #userid, adCount, price"
   ]
  },
  {
   "cell_type": "code",
   "execution_count": 102,
   "metadata": {
    "collapsed": false,
    "scrolled": true
   },
   "outputs": [],
   "source": [
    "sessionHits['hitsPerHour'] = sessionHits['hits'] / sessionHits['sessionLength']"
   ]
  },
  {
   "cell_type": "code",
   "execution_count": 103,
   "metadata": {
    "collapsed": false
   },
   "outputs": [
    {
     "data": {
      "text/html": [
       "<div>\n",
       "<table border=\"1\" class=\"dataframe\">\n",
       "  <thead>\n",
       "    <tr style=\"text-align: right;\">\n",
       "      <th></th>\n",
       "      <th>userId</th>\n",
       "      <th>sessionLength</th>\n",
       "      <th>hits</th>\n",
       "      <th>hitsPerHour</th>\n",
       "    </tr>\n",
       "  </thead>\n",
       "  <tbody>\n",
       "    <tr>\n",
       "      <th>0</th>\n",
       "      <td>0</td>\n",
       "      <td>175.500000</td>\n",
       "      <td>143</td>\n",
       "      <td>0.814815</td>\n",
       "    </tr>\n",
       "    <tr>\n",
       "      <th>1</th>\n",
       "      <td>1</td>\n",
       "      <td>437.615278</td>\n",
       "      <td>96</td>\n",
       "      <td>0.219371</td>\n",
       "    </tr>\n",
       "    <tr>\n",
       "      <th>2</th>\n",
       "      <td>2</td>\n",
       "      <td>319.500000</td>\n",
       "      <td>22</td>\n",
       "      <td>0.068858</td>\n",
       "    </tr>\n",
       "    <tr>\n",
       "      <th>3</th>\n",
       "      <td>6</td>\n",
       "      <td>74.500000</td>\n",
       "      <td>16</td>\n",
       "      <td>0.214765</td>\n",
       "    </tr>\n",
       "    <tr>\n",
       "      <th>4</th>\n",
       "      <td>8</td>\n",
       "      <td>80.000000</td>\n",
       "      <td>38</td>\n",
       "      <td>0.475000</td>\n",
       "    </tr>\n",
       "  </tbody>\n",
       "</table>\n",
       "</div>"
      ],
      "text/plain": [
       "   userId  sessionLength  hits  hitsPerHour\n",
       "0       0     175.500000   143     0.814815\n",
       "1       1     437.615278    96     0.219371\n",
       "2       2     319.500000    22     0.068858\n",
       "3       6      74.500000    16     0.214765\n",
       "4       8      80.000000    38     0.475000"
      ]
     },
     "execution_count": 103,
     "metadata": {},
     "output_type": "execute_result"
    }
   ],
   "source": [
    "sessionHits.head()"
   ]
  },
  {
   "cell_type": "code",
   "execution_count": 104,
   "metadata": {
    "collapsed": false
   },
   "outputs": [],
   "source": [
    "sessionHitsPerUser = sessionHits[['userId', 'hitsPerHour']]"
   ]
  },
  {
   "cell_type": "code",
   "execution_count": 105,
   "metadata": {
    "collapsed": false
   },
   "outputs": [
    {
     "data": {
      "text/html": [
       "<div>\n",
       "<table border=\"1\" class=\"dataframe\">\n",
       "  <thead>\n",
       "    <tr style=\"text-align: right;\">\n",
       "      <th></th>\n",
       "      <th>userId</th>\n",
       "      <th>hitsPerHour</th>\n",
       "    </tr>\n",
       "  </thead>\n",
       "  <tbody>\n",
       "    <tr>\n",
       "      <th>0</th>\n",
       "      <td>0</td>\n",
       "      <td>0.814815</td>\n",
       "    </tr>\n",
       "    <tr>\n",
       "      <th>1</th>\n",
       "      <td>1</td>\n",
       "      <td>0.219371</td>\n",
       "    </tr>\n",
       "    <tr>\n",
       "      <th>2</th>\n",
       "      <td>2</td>\n",
       "      <td>0.068858</td>\n",
       "    </tr>\n",
       "    <tr>\n",
       "      <th>3</th>\n",
       "      <td>6</td>\n",
       "      <td>0.214765</td>\n",
       "    </tr>\n",
       "    <tr>\n",
       "      <th>4</th>\n",
       "      <td>8</td>\n",
       "      <td>0.475000</td>\n",
       "    </tr>\n",
       "  </tbody>\n",
       "</table>\n",
       "</div>"
      ],
      "text/plain": [
       "   userId  hitsPerHour\n",
       "0       0     0.814815\n",
       "1       1     0.219371\n",
       "2       2     0.068858\n",
       "3       6     0.214765\n",
       "4       8     0.475000"
      ]
     },
     "execution_count": 105,
     "metadata": {},
     "output_type": "execute_result"
    }
   ],
   "source": [
    "sessionHitsPerUser.head()"
   ]
  },
  {
   "cell_type": "markdown",
   "metadata": {},
   "source": [
    "# Merge"
   ]
  },
  {
   "cell_type": "code",
   "execution_count": 106,
   "metadata": {
    "collapsed": true
   },
   "outputs": [],
   "source": [
    "combinedDF = adsPerUser.merge(revenuePerUser, on='userId') #userid, adCount, price"
   ]
  },
  {
   "cell_type": "code",
   "execution_count": 107,
   "metadata": {
    "collapsed": true
   },
   "outputs": [],
   "source": [
    "combinedDF = combinedDF.merge(sessionHitsPerUser, on='userId') # hitsPerHour"
   ]
  },
  {
   "cell_type": "code",
   "execution_count": 108,
   "metadata": {
    "collapsed": false
   },
   "outputs": [
    {
     "data": {
      "text/html": [
       "<div>\n",
       "<table border=\"1\" class=\"dataframe\">\n",
       "  <thead>\n",
       "    <tr style=\"text-align: right;\">\n",
       "      <th></th>\n",
       "      <th>userId</th>\n",
       "      <th>totalAdClicks</th>\n",
       "      <th>revenue</th>\n",
       "      <th>hitsPerHour</th>\n",
       "    </tr>\n",
       "  </thead>\n",
       "  <tbody>\n",
       "    <tr>\n",
       "      <th>0</th>\n",
       "      <td>1</td>\n",
       "      <td>44</td>\n",
       "      <td>21.0</td>\n",
       "      <td>0.219371</td>\n",
       "    </tr>\n",
       "    <tr>\n",
       "      <th>1</th>\n",
       "      <td>8</td>\n",
       "      <td>10</td>\n",
       "      <td>53.0</td>\n",
       "      <td>0.475000</td>\n",
       "    </tr>\n",
       "    <tr>\n",
       "      <th>2</th>\n",
       "      <td>9</td>\n",
       "      <td>37</td>\n",
       "      <td>80.0</td>\n",
       "      <td>0.164894</td>\n",
       "    </tr>\n",
       "    <tr>\n",
       "      <th>3</th>\n",
       "      <td>10</td>\n",
       "      <td>19</td>\n",
       "      <td>11.0</td>\n",
       "      <td>1.333333</td>\n",
       "    </tr>\n",
       "    <tr>\n",
       "      <th>4</th>\n",
       "      <td>12</td>\n",
       "      <td>46</td>\n",
       "      <td>215.0</td>\n",
       "      <td>0.221420</td>\n",
       "    </tr>\n",
       "  </tbody>\n",
       "</table>\n",
       "</div>"
      ],
      "text/plain": [
       "   userId  totalAdClicks  revenue  hitsPerHour\n",
       "0       1             44     21.0     0.219371\n",
       "1       8             10     53.0     0.475000\n",
       "2       9             37     80.0     0.164894\n",
       "3      10             19     11.0     1.333333\n",
       "4      12             46    215.0     0.221420"
      ]
     },
     "execution_count": 108,
     "metadata": {},
     "output_type": "execute_result"
    }
   ],
   "source": [
    "combinedDF.head(n=5) #display how the merged table looks"
   ]
  },
  {
   "cell_type": "code",
   "execution_count": 109,
   "metadata": {
    "collapsed": true
   },
   "outputs": [],
   "source": [
    "trainingDF = combinedDF[['totalAdClicks','revenue', 'hitsPerHour']]"
   ]
  },
  {
   "cell_type": "code",
   "execution_count": 115,
   "metadata": {
    "collapsed": false
   },
   "outputs": [
    {
     "data": {
      "text/html": [
       "<div>\n",
       "<table border=\"1\" class=\"dataframe\">\n",
       "  <thead>\n",
       "    <tr style=\"text-align: right;\">\n",
       "      <th></th>\n",
       "      <th>totalAdClicks</th>\n",
       "      <th>revenue</th>\n",
       "      <th>hitsPerHour</th>\n",
       "    </tr>\n",
       "  </thead>\n",
       "  <tbody>\n",
       "    <tr>\n",
       "      <th>0</th>\n",
       "      <td>44</td>\n",
       "      <td>21.0</td>\n",
       "      <td>0.219371</td>\n",
       "    </tr>\n",
       "    <tr>\n",
       "      <th>1</th>\n",
       "      <td>10</td>\n",
       "      <td>53.0</td>\n",
       "      <td>0.475000</td>\n",
       "    </tr>\n",
       "    <tr>\n",
       "      <th>2</th>\n",
       "      <td>37</td>\n",
       "      <td>80.0</td>\n",
       "      <td>0.164894</td>\n",
       "    </tr>\n",
       "    <tr>\n",
       "      <th>3</th>\n",
       "      <td>19</td>\n",
       "      <td>11.0</td>\n",
       "      <td>1.333333</td>\n",
       "    </tr>\n",
       "    <tr>\n",
       "      <th>4</th>\n",
       "      <td>46</td>\n",
       "      <td>215.0</td>\n",
       "      <td>0.221420</td>\n",
       "    </tr>\n",
       "  </tbody>\n",
       "</table>\n",
       "</div>"
      ],
      "text/plain": [
       "   totalAdClicks  revenue  hitsPerHour\n",
       "0             44     21.0     0.219371\n",
       "1             10     53.0     0.475000\n",
       "2             37     80.0     0.164894\n",
       "3             19     11.0     1.333333\n",
       "4             46    215.0     0.221420"
      ]
     },
     "execution_count": 115,
     "metadata": {},
     "output_type": "execute_result"
    }
   ],
   "source": [
    "trainingDF.head(n=5)"
   ]
  },
  {
   "cell_type": "code",
   "execution_count": 116,
   "metadata": {
    "collapsed": false
   },
   "outputs": [
    {
     "data": {
      "text/plain": [
       "(529, 3)"
      ]
     },
     "execution_count": 116,
     "metadata": {},
     "output_type": "execute_result"
    }
   ],
   "source": [
    "trainingDF.shape"
   ]
  },
  {
   "cell_type": "code",
   "execution_count": 118,
   "metadata": {
    "collapsed": false
   },
   "outputs": [],
   "source": [
    "pDF = sqlContext.createDataFrame(trainingDF)"
   ]
  },
  {
   "cell_type": "code",
   "execution_count": 119,
   "metadata": {
    "collapsed": true
   },
   "outputs": [],
   "source": [
    "parsedData = pDF.rdd.map(lambda line: array([line[0], line[1], line[2]])) #totalAdClicks, revenue"
   ]
  },
  {
   "cell_type": "markdown",
   "metadata": {},
   "source": [
    "# Train KMeans model"
   ]
  },
  {
   "cell_type": "code",
   "execution_count": 127,
   "metadata": {
    "collapsed": true
   },
   "outputs": [],
   "source": [
    "my_kmmodel = KMeans.train(parsedData, 3, maxIterations=10, runs=10, initializationMode=\"random\")"
   ]
  },
  {
   "cell_type": "code",
   "execution_count": 128,
   "metadata": {
    "collapsed": false
   },
   "outputs": [
    {
     "name": "stdout",
     "output_type": "stream",
     "text": [
      "[array([  41.06666667,  145.51111111,    0.30275967]), array([ 27.14044944,  17.07022472,   0.46141664]), array([ 34.3203125 ,  66.78125   ,   0.40095501])]\n"
     ]
    }
   ],
   "source": [
    "print(my_kmmodel.centers)"
   ]
  }
 ],
 "metadata": {
  "kernelspec": {
   "display_name": "Python 2",
   "language": "python",
   "name": "python2"
  },
  "language_info": {
   "codemirror_mode": {
    "name": "ipython",
    "version": 2
   },
   "file_extension": ".py",
   "mimetype": "text/x-python",
   "name": "python",
   "nbconvert_exporter": "python",
   "pygments_lexer": "ipython2",
   "version": "2.7.10"
  }
 },
 "nbformat": 4,
 "nbformat_minor": 0
}
